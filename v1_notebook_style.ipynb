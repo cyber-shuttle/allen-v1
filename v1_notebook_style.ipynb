{
 "cells": [
  {
   "cell_type": "markdown",
   "metadata": {},
   "source": [
    "# Running V1 Model from Cybershuttle\n",
    "\n",
    "Objective - Show how the Cybershuttle SDK enables to run multiple V1 simulations from a Jupyter Notebook."
   ]
  },
  {
   "cell_type": "markdown",
   "metadata": {},
   "source": [
    "## Step 1 - Import SDK, Authenticate, and Find Runtimes"
   ]
  },
  {
   "cell_type": "code",
   "execution_count": null,
   "metadata": {},
   "outputs": [],
   "source": [
    "import airavata_experiments as ae\n",
    "import airavata_experiments.neuro as ns\n",
    "\n",
    "# log in to cybershuttle\n",
    "ae.login(\"api.cybershuttle.org\")\n",
    "\n",
    "# find what runtimes (on the anvil cluster) can provide 100 cpus for 1 hr\n",
    "runtimes_with_hi_cpu = ae.list_runtimes(\n",
    "  cluster=\"anvil.rcac.purdue.edu\",\n",
    "  category=\"cpu\",\n",
    "  group=\"Default\",\n",
    "  walltime=60,\n",
    "  cpu_count=16,\n",
    ")"
   ]
  },
  {
   "cell_type": "code",
   "execution_count": null,
   "metadata": {},
   "outputs": [],
   "source": [
    "# Run the first V1 simulation\n",
    "exp1 = ns.V1.initialize(\n",
    "  name=\"plan_1_1000\",\n",
    "  lgn_spikes=ns.SpikeInput.from_h5(\"spikes_lgn.trial_0.h5\", node_set=\"lgn\"),\n",
    "  bkg_spikes=ns.SpikeInput.from_h5(\"spikes_bkg.trial_0.h5\", node_set=\"bkg\"),\n",
    "  injcur_spikes=None,\n",
    "  duration=1000.0,\n",
    "  dt=0.25\n",
    ")\n",
    "exp1.create_task(*runtimes_with_hi_cpu)\n",
    "plan1 = exp1.plan()\n",
    "plan1.launch()"
   ]
  },
  {
   "cell_type": "code",
   "execution_count": null,
   "metadata": {},
   "outputs": [],
   "source": [
    "# Run another V1 simulation (in parallel)\n",
    "exp2 = ns.V1.initialize(\n",
    "  name=\"plan_2_3000\",\n",
    "  lgn_spikes=ns.SpikeInput.from_h5(\"spikes_lgn.trial_0.h5\", node_set=\"lgn\"),\n",
    "  bkg_spikes=ns.SpikeInput.from_h5(\"spikes_bkg.trial_0.h5\", node_set=\"bkg\"),\n",
    "  injcur_spikes=None,\n",
    "  duration=3000.0,\n",
    "  dt=0.25\n",
    ")\n",
    "exp2.create_task(*runtimes_with_hi_cpu)\n",
    "plan2 = exp2.plan()\n",
    "plan2.launch()"
   ]
  },
  {
   "cell_type": "code",
   "execution_count": null,
   "metadata": {},
   "outputs": [],
   "source": [
    "# Wait for both plans to complete\n",
    "plan1.wait_for_completion()\n",
    "plan2.wait_for_completion()"
   ]
  },
  {
   "cell_type": "code",
   "execution_count": null,
   "metadata": {},
   "outputs": [],
   "source": [
    "# Download the results of both plans\n",
    "plan1.download(f\"results/${exp1.name}\")\n",
    "plan2.download(f\"results/${exp2.name}\")"
   ]
  }
 ],
 "metadata": {
  "kernelspec": {
   "display_name": "Python 3",
   "language": "python",
   "name": "python3"
  },
  "language_info": {
   "name": "python",
   "version": "3.10.16"
  }
 },
 "nbformat": 4,
 "nbformat_minor": 2
}
