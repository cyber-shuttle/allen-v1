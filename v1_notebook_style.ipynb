{
 "cells": [
  {
   "cell_type": "markdown",
   "metadata": {},
   "source": [
    "# Running V1 Model from Cybershuttle\n",
    "\n",
    "Objective - Show how the Cybershuttle SDK enables to run multiple V1 simulations from a Jupyter Notebook."
   ]
  },
  {
   "cell_type": "markdown",
   "metadata": {},
   "source": [
    "# Step 1 - Preparation in Cybershuttle"
   ]
  },
  {
   "cell_type": "markdown",
   "metadata": {},
   "source": [
    "* authentication\n",
    "* starting up a runtime with N and X RAM and switching to it\n",
    "* environment dependencies will be already installed here"
   ]
  },
  {
   "cell_type": "code",
   "execution_count": null,
   "metadata": {},
   "outputs": [
    {
     "name": "stdout",
     "output_type": "stream",
     "text": [
      "\n",
      "Loaded airavata_jupyter_magic\n",
      "(current runtime = local)\n",
      "\n",
      "  %authenticate                      -- Authenticate to access high-performance runtimes.\n",
      "  %request_runtime <rt> [args]       -- Request a runtime named <rt> with configuration <args>. Call multiple times to request multiple runtimes.\n",
      "  %restart_runtime <rt>              -- Restart runtime <rt>. Run this if you install new dependencies or if the runtime hangs.\n",
      "  %stop_runtime <rt>                 -- Stop runtime <rt> when no longer needed.\n",
      "  %switch_runtime <rt>               -- Switch active runtime to <rt>. All subsequent executions will use this runtime.\n",
      "  %%run_on <rt>                      -- Force a cell to always execute on <rt>, regardless of the active runtime.\n",
      "  %copy_data <r1:file1> <r2:file2>   -- Copy <file1> in <r1> to <file2> in <r2>.\n",
      "\n"
     ]
    },
    {
     "data": {
      "application/vnd.jupyter.widget-view+json": {
       "model_id": "e68d814cee4841e080792ac54dec5004",
       "version_major": 2,
       "version_minor": 0
      },
      "text/plain": [
       "Output()"
      ]
     },
     "metadata": {},
     "output_type": "display_data"
    },
    {
     "data": {
      "text/html": [
       "<pre style=\"white-space:pre;overflow-x:auto;line-height:normal;font-family:Menlo,'DejaVu Sans Mono',consolas,'Courier New',monospace\">Authenticated.\n",
       "</pre>\n"
      ],
      "text/plain": [
       "Authenticated.\n"
      ]
     },
     "metadata": {},
     "output_type": "display_data"
    },
    {
     "data": {
      "text/html": [
       "<pre style=\"white-space:pre;overflow-x:auto;line-height:normal;font-family:Menlo,'DejaVu Sans Mono',consolas,'Courier New',monospace\"></pre>\n"
      ],
      "text/plain": []
     },
     "metadata": {},
     "output_type": "display_data"
    },
    {
     "data": {
      "text/html": [
       "<pre style=\"white-space:pre;overflow-x:auto;line-height:normal;font-family:Menlo,'DejaVu Sans Mono',consolas,'Courier New',monospace\"></pre>\n"
      ],
      "text/plain": []
     },
     "metadata": {},
     "output_type": "display_data"
    },
    {
     "name": "stdout",
     "output_type": "stream",
     "text": [
      "Requesting runtime=cpu\n",
      "cpuCount: 4\n",
      "experimentName: CS_Agent\n",
      "group: Default\n",
      "libraries:\n",
      "- python=3.10\n",
      "- pip\n",
      "- ipywidgets\n",
      "- numpy\n",
      "- pandas\n",
      "- matplotlib\n",
      "- nest-simulator\n",
      "memory: 4096\n",
      "mounts:\n",
      "- ~/cybershuttle/dataset/lgn_stimulus:/data/lgn_stimulus\n",
      "- ~/cybershuttle/dataset/v1_point:/data/v1_point\n",
      "- ~/cybershuttle/dataset/lgn_stimulus_configs:/data/lgn_stimulus_configs\n",
      "- ~/cybershuttle/dataset/v1_point_configs:/data/v1_point_configs\n",
      "nodeCount: 1\n",
      "pip:\n",
      "- allensdk\n",
      "- bmtk\n",
      "queue: shared\n",
      "remoteCluster: expanse\n",
      "wallTime: 60\n",
      "\n",
      "Requested runtime=cpu. state=CREATED\n",
      "Switched to runtime=cpu.\n"
     ]
    }
   ],
   "source": [
    "# %pip install --force-reinstall airavata-python-sdk[notebook]\n",
    "import airavata_jupyter_magic\n",
    "\n",
    "%authenticate\n",
    "%request_runtime hpc_cpu --file=cybershuttle.yml\n",
    "%switch_runtime hpc_cpu"
   ]
  },
  {
   "cell_type": "markdown",
   "metadata": {},
   "source": [
    "# Step 2 - Running V1 in Cybershuttle"
   ]
  },
  {
   "cell_type": "code",
   "execution_count": null,
   "metadata": {},
   "outputs": [
    {
     "name": "stdout",
     "output_type": "stream",
     "text": [
      "ls: /data: No such file or directory\n"
     ]
    }
   ],
   "source": [
    "%ls -l /data"
   ]
  },
  {
   "cell_type": "code",
   "execution_count": null,
   "metadata": {},
   "outputs": [],
   "source": [
    "%copy_data source=local:lgn_stimulus_config/config.filternet.dg.2Hz.0deg.json target=hpc_cpu:config.json"
   ]
  },
  {
   "cell_type": "code",
   "execution_count": null,
   "metadata": {},
   "outputs": [],
   "source": [
    "%ls -l ."
   ]
  },
  {
   "cell_type": "code",
   "execution_count": null,
   "metadata": {},
   "outputs": [],
   "source": [
    "import sys\n",
    "from bmtk.simulator import filternet\n",
    "\n",
    "def run(config_file):\n",
    "    config = filternet.Config.from_json(config_file)\n",
    "    config.build_env()\n",
    "    \n",
    "    net = filternet.FilterNetwork.from_config(config)\n",
    "    sim = filternet.FilterSimulator.from_config(config, net)\n",
    "    sim.run()\n",
    "\n",
    "# keep everything relative paths\n",
    "run('config.json')"
   ]
  },
  {
   "cell_type": "code",
   "execution_count": null,
   "metadata": {},
   "outputs": [
    {
     "name": "stderr",
     "output_type": "stream",
     "text": [
      "UsageError: Line magic function `%stop_runtime` not found.\n"
     ]
    }
   ],
   "source": [
    "%stop_runtime hpc_cpu\n",
    "%switch_runtime local"
   ]
  }
 ],
 "metadata": {
  "kernelspec": {
   "display_name": "Python 3",
   "language": "python",
   "name": "python3"
  },
  "language_info": {
   "codemirror_mode": {
    "name": "ipython",
    "version": 3
   },
   "file_extension": ".py",
   "mimetype": "text/x-python",
   "name": "python",
   "nbconvert_exporter": "python",
   "pygments_lexer": "ipython3",
   "version": "3.10.16"
  }
 },
 "nbformat": 4,
 "nbformat_minor": 4
}
