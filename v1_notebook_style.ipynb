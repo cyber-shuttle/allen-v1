{
 "cells": [
  {
   "cell_type": "markdown",
   "metadata": {},
   "source": [
    "# Running V1 Model from Cybershuttle\n",
    "\n",
    "Objective - Show how the Cybershuttle SDK enables to run multiple V1 simulations from a Jupyter Notebook."
   ]
  },
  {
   "cell_type": "markdown",
   "metadata": {},
   "source": [
    "# Step 1 - Preparation in Cybershuttle"
   ]
  },
  {
   "cell_type": "markdown",
   "metadata": {},
   "source": [
    "* authentication\n",
    "* starting up a runtime with N and X RAM and switching to it\n",
    "* environment dependencies will be already installed here"
   ]
  },
  {
   "cell_type": "code",
   "execution_count": 1,
   "metadata": {},
   "outputs": [
    {
     "name": "stdout",
     "output_type": "stream",
     "text": [
      "\n",
      "Loaded airavata_jupyter_magic\n",
      "(current runtime = local)\n",
      "\n",
      "  %authenticate                      -- Authenticate to access high-performance runtimes.\n",
      "  %request_runtime <rt> [args]       -- Request a runtime named <rt> with configuration <args>. Call multiple times to request multiple runtimes.\n",
      "  %stop_runtime <rt>                 -- Stop runtime <rt> when no longer needed.\n",
      "  %switch_runtime <rt>               -- Switch active runtime to <rt>. All subsequent executions will use this runtime.\n",
      "  %%run_on <rt>                      -- Force a cell to always execute on <rt>, regardless of the active runtime.\n",
      "  %copy_data <r1:file1> <r2:file2>   -- Copy <file1> in <r1> to <file2> in <r2>.\n",
      "\n"
     ]
    },
    {
     "data": {
      "application/vnd.jupyter.widget-view+json": {
       "model_id": "",
       "version_major": 2,
       "version_minor": 0
      },
      "text/plain": [
       "Output()"
      ]
     },
     "metadata": {},
     "output_type": "display_data"
    },
    {
     "data": {
      "text/html": [
       "<pre style=\"white-space:pre;overflow-x:auto;line-height:normal;font-family:Menlo,'DejaVu Sans Mono',consolas,'Courier New',monospace\">Authenticated.\n",
       "</pre>\n"
      ],
      "text/plain": [
       "Authenticated.\n"
      ]
     },
     "metadata": {},
     "output_type": "display_data"
    },
    {
     "data": {
      "text/html": [
       "<pre style=\"white-space:pre;overflow-x:auto;line-height:normal;font-family:Menlo,'DejaVu Sans Mono',consolas,'Courier New',monospace\"></pre>\n"
      ],
      "text/plain": []
     },
     "metadata": {},
     "output_type": "display_data"
    },
    {
     "data": {
      "text/html": [
       "<pre style=\"white-space:pre;overflow-x:auto;line-height:normal;font-family:Menlo,'DejaVu Sans Mono',consolas,'Courier New',monospace\"></pre>\n"
      ],
      "text/plain": []
     },
     "metadata": {},
     "output_type": "display_data"
    },
    {
     "name": "stdout",
     "output_type": "stream",
     "text": [
      "Requested runtime=cpu. state=CREATED\n",
      "Switched to runtime=cpu.\n"
     ]
    }
   ],
   "source": [
    "# %pip install --force-reinstall -q airavata-python-sdk[notebook]\n",
    "import airavata_jupyter_magic\n",
    "\n",
    "%authenticate\n",
    "\n",
    "%request_runtime cpu --cluster=Anvil --cpus=4 --memory=4096 --walltime=60 --queue=shared --group=Cerebrum\n",
    "# %request_runtime cpu --file=cybershuttle.yml\n",
    "\n",
    "# print out the cybershuttle.yml content in a sensible way\n",
    "# datasets mounted\n",
    "# - datasets, model, resources\n",
    "\n",
    "%switch_runtime cpu"
   ]
  },
  {
   "cell_type": "markdown",
   "metadata": {},
   "source": [
    "# Step 2 - Running V1 in Cybershuttle"
   ]
  },
  {
   "cell_type": "code",
   "execution_count": 1,
   "metadata": {},
   "outputs": [
    {
     "name": "stdout",
     "output_type": "stream",
     "text": [
      "\u001b[2K\u001b[32m⠙\u001b[0m Connecting to runtime=cpu... status=READY_CREATED\n",
      "\u001b[1A\u001b[2K\u001b[2J\u001b[Htotal 2\n",
      "drwxr-xr-x  4 x-scigap x-mcb070038 4096 Mar 31 02:08 \u001b[0m\u001b[01;34mlgn_stimulus\u001b[0m/\n",
      "drwxr-xr-x 10 x-scigap x-mcb070038 4096 Mar 31 02:06 \u001b[01;34mv1_point\u001b[0m/\n"
     ]
    }
   ],
   "source": [
    "%ls -l /data"
   ]
  },
  {
   "cell_type": "code",
   "execution_count": 3,
   "metadata": {},
   "outputs": [
    {
     "name": "stdout",
     "output_type": "stream",
     "text": [
      "Copying from local:lgn_stimulus_config/config.filternet.dg.2Hz.0deg.json to cpu:config.json\n",
      "Pushing local:lgn_stimulus_config/config.filternet.dg.2Hz.0deg.json to remote:config.json\n",
      "[200] Uploaded local:lgn_stimulus_config/config.filternet.dg.2Hz.0deg.json to remote:config.json\n"
     ]
    }
   ],
   "source": [
    "%copy_data source=local:lgn_stimulus_config/config.filternet.dg.2Hz.0deg.json target=cpu:config.json"
   ]
  },
  {
   "cell_type": "code",
   "execution_count": 1,
   "metadata": {},
   "outputs": [
    {
     "name": "stdout",
     "output_type": "stream",
     "text": [
      "\u001b[2K\u001b[32m⠸\u001b[0m Connecting to runtime=cpu... status=READY\n",
      "\u001b[1A\u001b[2K\u001b[2J\u001b[Htotal 16386\n",
      "-rw-r--r-- 1 x-scigap x-mcb070038    29 Apr  3 16:19 A568452821\n",
      "-rw-r--r-- 1 x-scigap x-mcb070038 13313 Apr  3 16:21 CerebrumAgent.stderr\n",
      "-rw-r--r-- 1 x-scigap x-mcb070038   283 Apr  3 16:20 CerebrumAgent.stdout\n",
      "-rw-r--r-- 1 x-scigap x-mcb070038  1484 Apr  3 16:19 job_1355278000.slurm\n"
     ]
    }
   ],
   "source": [
    "%ls -l ."
   ]
  },
  {
   "cell_type": "code",
   "execution_count": 1,
   "metadata": {},
   "outputs": [
    {
     "name": "stdout",
     "output_type": "stream",
     "text": [
      "\u001b[2K\u001b[32m⠸\u001b[0m Connecting to runtime=cpu... status=READY\n",
      "\u001b[1A\u001b[2K\u001b[2J\u001b[H"
     ]
    },
    {
     "data": {
      "text/html": [
       "\n",
       "                <div style=\"\n",
       "                    color: #a71d5d;\n",
       "                    background-color: #fdd;\n",
       "                    border: 1px solid #a71d5d;\n",
       "                    padding: 5px;\n",
       "                    border-radius: 5px;\n",
       "                    font-family: Consolas, 'Courier New', monospace;\n",
       "                \">\n",
       "                    <pre><strong>SyntaxError: invalid non-printable character U+FEFF (3644811992.py, line 3)</strong>\n",
       "                  Cell In[3], line 3\n",
       "    ﻿\n",
       "    ^\n",
       "SyntaxError: invalid non-printable character U+FEFF\n",
       "\n",
       "</pre></div>"
      ],
      "text/plain": [
       "<IPython.core.display.HTML object>"
      ]
     },
     "metadata": {},
     "output_type": "display_data"
    }
   ],
   "source": [
    "import sys\n",
    "from bmtk.simulator import filternet\n",
    "﻿\n",
    "def run(config_file):\n",
    "    config = filternet.Config.from_json(config_file)\n",
    "    config.build_env()\n",
    "    \n",
    "    net = filternet.FilterNetwork.from_config(config)\n",
    "    sim = filternet.FilterSimulator.from_config(config, net)\n",
    "    sim.run()﻿\n",
    "\n",
    "# keep everything relative paths\n",
    "run('lgn_stimulus_config/<file>.json')"
   ]
  },
  {
   "cell_type": "code",
   "execution_count": null,
   "metadata": {},
   "outputs": [],
   "source": [
    "import bmtk"
   ]
  },
  {
   "cell_type": "code",
   "execution_count": null,
   "metadata": {},
   "outputs": [],
   "source": [
    "%ls"
   ]
  }
 ],
 "metadata": {
  "kernelspec": {
   "display_name": "Python 3 (ipykernel)",
   "language": "python",
   "name": "python3"
  },
  "language_info": {
   "codemirror_mode": {
    "name": "ipython",
    "version": 3
   },
   "file_extension": ".py",
   "mimetype": "text/x-python",
   "name": "python",
   "nbconvert_exporter": "python",
   "pygments_lexer": "ipython3",
   "version": "3.11.6"
  }
 },
 "nbformat": 4,
 "nbformat_minor": 4
}
